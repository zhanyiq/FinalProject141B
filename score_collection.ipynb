{
 "cells": [
  {
   "cell_type": "code",
   "execution_count": 2,
   "id": "22434ab2",
   "metadata": {},
   "outputs": [],
   "source": [
    "import pandas as pd\n",
    "import requests\n",
    "\n",
    "\n",
    "def get_game_reviews(game_id, csv_file,title_name):\n",
    "    # Define the URL for the OpenCritic API, using the game_id parameter\n",
    "    url = f\"https://opencritic-api.p.rapidapi.com/reviews/game/{game_id}\"\n",
    "    \n",
    "    # Set up the headers for the API request\n",
    "    headers = {\n",
    "        \"X-RapidAPI-Key\": \"61206e4cddmshb83e09e46beb28ep1c0a4cjsn8e27fb46a529\",\n",
    "        \"X-RapidAPI-Host\": \"opencritic-api.p.rapidapi.com\"\n",
    "    }\n",
    "    \n",
    "    # Make a GET request to the OpenCritic API\n",
    "    response = requests.get(url, headers=headers)\n",
    "    \n",
    "    # Check if the response status code is 200 (OK).\n",
    "    if response.status_code != 200:\n",
    "        print(f\"Failed to fetch data for game ID {game_id}\")\n",
    "        return\n",
    "\n",
    "    # Extract data\n",
    "    data = response.json()\n",
    "    df = pd.DataFrame(data)[['title', 'score']]\n",
    "\n",
    "    # Compute mean score and create a summary DataFrame\n",
    "    mean_review_score = df['score'].mean()\n",
    "    summary_df = pd.DataFrame({'title': title_name, 'mean_score': [mean_review_score]})\n",
    "\n",
    "    # Append to the existing CSV file, create if doesn't exist\n",
    "    summary_df.to_csv(csv_file, mode='a', header=not pd.io.common.file_exists(csv_file), index=False)\n"
   ]
  },
  {
   "cell_type": "code",
   "execution_count": 11,
   "id": "b7cfa3df",
   "metadata": {},
   "outputs": [],
   "source": [
    "# Test\n",
    "get_game_reviews(463, 'game_score_data.csv', 'The Witcher 3')\n",
    "get_game_reviews(9136, 'game_score_data.csv', \"Baldur's Gate 3\")"
   ]
  },
  {
   "cell_type": "code",
   "execution_count": 3,
   "id": "d5fa986e",
   "metadata": {},
   "outputs": [],
   "source": [
    "# Test 2\n",
    "get_game_reviews(12090, 'game_score_data.csv', \"Elden Ring\")"
   ]
  },
  {
   "cell_type": "code",
   "execution_count": null,
   "id": "491bd758",
   "metadata": {},
   "outputs": [],
   "source": []
  }
 ],
 "metadata": {
  "kernelspec": {
   "display_name": "Python 3 (ipykernel)",
   "language": "python",
   "name": "python3"
  },
  "language_info": {
   "codemirror_mode": {
    "name": "ipython",
    "version": 3
   },
   "file_extension": ".py",
   "mimetype": "text/x-python",
   "name": "python",
   "nbconvert_exporter": "python",
   "pygments_lexer": "ipython3",
   "version": "3.11.5"
  }
 },
 "nbformat": 4,
 "nbformat_minor": 5
}
